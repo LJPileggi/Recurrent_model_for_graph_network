{
 "cells": [
  {
   "cell_type": "code",
   "execution_count": 1,
   "metadata": {
    "colab": {
     "base_uri": "https://localhost:8080/"
    },
    "id": "896x2UPxqZOZ",
    "outputId": "ddf86b5f-d1d6-45ed-9fee-4fc47dc5dcce"
   },
   "outputs": [
    {
     "name": "stdout",
     "output_type": "stream",
     "text": [
      "Archive:  /content/preprocessing.zip\n",
      "   creating: preprocessing/\n",
      "  inflating: preprocessing/dicts.py  \n",
      "  inflating: preprocessing/polish_raw_data.py  \n",
      "  inflating: preprocessing/adjacency.py  \n",
      "  inflating: preprocessing/MatSum.cu  \n",
      "  inflating: preprocessing/adjacency_gpu.py  \n",
      "  inflating: preprocessing/matsum.py  \n",
      "   creating: preprocessing/__pycache__/\n",
      "  inflating: preprocessing/__pycache__/dicts.cpython-39.pyc  \n",
      "  inflating: preprocessing/__pycache__/adjacency.cpython-39.pyc  \n"
     ]
    }
   ],
   "source": [
    "!unzip /content/preprocessing.zip"
   ]
  },
  {
   "cell_type": "code",
   "execution_count": 3,
   "metadata": {
    "colab": {
     "base_uri": "https://localhost:8080/"
    },
    "id": "AdKqzQdeCN14",
    "outputId": "4cddebaf-2c07-49c3-a62a-575a6c48e13d"
   },
   "outputs": [
    {
     "name": "stdout",
     "output_type": "stream",
     "text": [
      "Archive:  /content/final_data.zip\n",
      "   creating: final_data/\n",
      "  inflating: final_data/data.json    \n",
      "  inflating: final_data/data_dict_list.json  \n"
     ]
    }
   ],
   "source": [
    "!unzip /content/final_data.zip"
   ]
  },
  {
   "cell_type": "code",
   "execution_count": 4,
   "metadata": {
    "colab": {
     "base_uri": "https://localhost:8080/"
    },
    "id": "CBCNyvjssjO-",
    "outputId": "618d8c29-db96-45e9-b7d5-4d7590710299"
   },
   "outputs": [
    {
     "name": "stdout",
     "output_type": "stream",
     "text": [
      "Looking in indexes: https://pypi.org/simple, https://us-python.pkg.dev/colab-wheels/public/simple/\n",
      "Collecting numpyencoder\n",
      "  Downloading numpyencoder-0.3.0-py3-none-any.whl (3.0 kB)\n",
      "Requirement already satisfied: numpy>=1.14.3 in /usr/local/lib/python3.7/dist-packages (from numpyencoder) (1.21.6)\n",
      "Installing collected packages: numpyencoder\n",
      "Successfully installed numpyencoder-0.3.0\n"
     ]
    }
   ],
   "source": [
    "!pip install numpyencoder"
   ]
  },
  {
   "cell_type": "code",
   "execution_count": 5,
   "metadata": {
    "colab": {
     "base_uri": "https://localhost:8080/"
    },
    "id": "W_9o8trCsqB8",
    "outputId": "98cb8cc0-d1d4-4134-e2f6-6c98cee5a8c3"
   },
   "outputs": [
    {
     "name": "stdout",
     "output_type": "stream",
     "text": [
      "Looking in indexes: https://pypi.org/simple, https://us-python.pkg.dev/colab-wheels/public/simple/\n",
      "Collecting pycuda\n",
      "  Downloading pycuda-2021.1.tar.gz (1.7 MB)\n",
      "\u001b[K     |████████████████████████████████| 1.7 MB 5.1 MB/s \n",
      "\u001b[?25h  Installing build dependencies ... \u001b[?25l\u001b[?25hdone\n",
      "  Getting requirements to build wheel ... \u001b[?25l\u001b[?25hdone\n",
      "    Preparing wheel metadata ... \u001b[?25l\u001b[?25hdone\n",
      "Collecting pytools>=2011.2\n",
      "  Downloading pytools-2022.1.10.tar.gz (70 kB)\n",
      "\u001b[K     |████████████████████████████████| 70 kB 8.7 MB/s \n",
      "\u001b[?25hCollecting mako\n",
      "  Downloading Mako-1.2.0-py3-none-any.whl (78 kB)\n",
      "\u001b[K     |████████████████████████████████| 78 kB 8.4 MB/s \n",
      "\u001b[?25hRequirement already satisfied: appdirs>=1.4.0 in /usr/local/lib/python3.7/dist-packages (from pycuda) (1.4.4)\n",
      "Collecting platformdirs>=2.2.0\n",
      "  Downloading platformdirs-2.5.2-py3-none-any.whl (14 kB)\n",
      "Requirement already satisfied: typing_extensions>=4.0 in /usr/local/lib/python3.7/dist-packages (from pytools>=2011.2->pycuda) (4.1.1)\n",
      "Requirement already satisfied: importlib-metadata in /usr/local/lib/python3.7/dist-packages (from mako->pycuda) (4.11.4)\n",
      "Requirement already satisfied: MarkupSafe>=0.9.2 in /usr/local/lib/python3.7/dist-packages (from mako->pycuda) (2.0.1)\n",
      "Requirement already satisfied: zipp>=0.5 in /usr/local/lib/python3.7/dist-packages (from importlib-metadata->mako->pycuda) (3.8.0)\n",
      "Building wheels for collected packages: pycuda, pytools\n",
      "  Building wheel for pycuda (PEP 517) ... \u001b[?25l\u001b[?25hdone\n",
      "  Created wheel for pycuda: filename=pycuda-2021.1-cp37-cp37m-linux_x86_64.whl size=626634 sha256=bffbe7eeec6c4435daa09b42f4263ee48c4ea7b51695545d39c09312b1325e96\n",
      "  Stored in directory: /root/.cache/pip/wheels/c4/ef/49/dc6a5feb8d980b37c83d465ecab24949a6aa19458522a9e001\n",
      "  Building wheel for pytools (setup.py) ... \u001b[?25l\u001b[?25hdone\n",
      "  Created wheel for pytools: filename=pytools-2022.1.10-py2.py3-none-any.whl size=64941 sha256=57df3c2cbaa26157e69915c6097f81f6eb2131778bde43d90a1aedfc510d90bd\n",
      "  Stored in directory: /root/.cache/pip/wheels/06/43/a7/bb597fe7e30a528ca628137b6555856d4573f95227230dceed\n",
      "Successfully built pycuda pytools\n",
      "Installing collected packages: platformdirs, pytools, mako, pycuda\n",
      "Successfully installed mako-1.2.0 platformdirs-2.5.2 pycuda-2021.1 pytools-2022.1.10\n"
     ]
    }
   ],
   "source": [
    "!pip install pycuda"
   ]
  },
  {
   "cell_type": "code",
   "execution_count": 6,
   "metadata": {
    "colab": {
     "base_uri": "https://localhost:8080/"
    },
    "id": "i4GSeCyPsBtv",
    "outputId": "d90f90e9-cbce-415b-fd9c-c44c64a6dadb"
   },
   "outputs": [
    {
     "name": "stdout",
     "output_type": "stream",
     "text": [
      "/content/preprocessing\n"
     ]
    }
   ],
   "source": [
    "cd /content/preprocessing"
   ]
  },
  {
   "cell_type": "code",
   "execution_count": 31,
   "metadata": {
    "colab": {
     "base_uri": "https://localhost:8080/"
    },
    "id": "RHnrwYQLruXh",
    "outputId": "4c4df8ff-5628-4dea-93a4-42e78685e5d3"
   },
   "outputs": [
    {
     "name": "stdout",
     "output_type": "stream",
     "text": [
      "time taken: 1.8 s\n"
     ]
    }
   ],
   "source": [
    "!python3  adjacency_gpu.py"
   ]
  }
 ],
 "metadata": {
  "accelerator": "GPU",
  "colab": {
   "name": "Untitled1.ipynb",
   "provenance": []
  },
  "gpuClass": "standard",
  "kernelspec": {
   "display_name": "Python 3 (ipykernel)",
   "language": "python",
   "name": "python3"
  },
  "language_info": {
   "name": "python"
  }
 },
 "nbformat": 4,
 "nbformat_minor": 1
}
